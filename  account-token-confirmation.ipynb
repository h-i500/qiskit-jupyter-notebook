{
 "cells": [
  {
   "cell_type": "code",
   "execution_count": 3,
   "id": "306c6ba4-4ffd-493e-a2a0-81d73e38b6fd",
   "metadata": {},
   "outputs": [
    {
     "name": "stdout",
     "output_type": "stream",
     "text": [
      "トークンが無効です。エラー: '401 Client Error: Unauthorized for url: https://auth.quantum-computing.ibm.com/api/users/loginWithToken. Login failed., Error code: 3446.'\n"
     ]
    }
   ],
   "source": [
    "from qiskit_ibm_runtime import QiskitRuntimeService\n",
    "\n",
    "try:\n",
    "    # アカウント情報を読み込む\n",
    "    service = QiskitRuntimeService()\n",
    "    print(\"トークンは有効です。接続に成功しました！\")\n",
    "except Exception as e:\n",
    "    print(f\"トークンが無効です。エラー: {e}\")\n"
   ]
  },
  {
   "cell_type": "code",
   "execution_count": null,
   "id": "53ff7e59-84a4-4ce6-aae9-f4cb592de024",
   "metadata": {},
   "outputs": [],
   "source": []
  }
 ],
 "metadata": {
  "kernelspec": {
   "display_name": "Python 3 (ipykernel)",
   "language": "python",
   "name": "python3"
  },
  "language_info": {
   "codemirror_mode": {
    "name": "ipython",
    "version": 3
   },
   "file_extension": ".py",
   "mimetype": "text/x-python",
   "name": "python",
   "nbconvert_exporter": "python",
   "pygments_lexer": "ipython3",
   "version": "3.12.8"
  }
 },
 "nbformat": 4,
 "nbformat_minor": 5
}
