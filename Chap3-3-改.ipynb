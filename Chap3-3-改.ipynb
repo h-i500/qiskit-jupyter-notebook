{
 "cells": [
  {
   "cell_type": "code",
   "execution_count": null,
   "id": "2fc7a3e5-645e-48f5-a5f5-27142e191392",
   "metadata": {
    "scrolled": true
   },
   "outputs": [
    {
     "name": "stdout",
     "output_type": "stream",
     "text": [
      "Statevector: Statevector([0.70710678+0.j, 0.        +0.j, 0.        +0.j,\n",
      "             0.70710678+0.j],\n",
      "            dims=(2, 2))\n"
     ]
    }
   ],
   "source": [
    "from qiskit import QuantumCircuit, transpile\n",
    "from qiskit_aer import AerSimulator\n",
    "\n",
    "# シンプルな2量子ビットの回路\n",
    "qc = QuantumCircuit(2)\n",
    "qc.h(0)  # Hadamardゲートを量子ビット0に適用\n",
    "qc.cx(0, 1)  # CNOTゲートを適用\n",
    "\n",
    "# 状態ベクトルの保存命令を追加\n",
    "qc.save_statevector()\n",
    "\n",
    "# 状態ベクトルシミュレーション用シミュレーター\n",
    "simulator = AerSimulator(method='statevector')\n",
    "\n",
    "# 回路をコンパイルしてシミュレーションを実行\n",
    "compiled_circuit = transpile(qc, simulator)\n",
    "results = simulator.run(compiled_circuit).result()\n",
    "\n",
    "# 状態ベクトルを取得して表示\n",
    "statevector = results.get_statevector(0)  # インデックスで指定\n",
    "print(\"Statevector:\", statevector)"
   ]
  },
  {
   "cell_type": "code",
   "execution_count": 5,
   "id": "87a63272",
   "metadata": {},
   "outputs": [
    {
     "name": "stdout",
     "output_type": "stream",
     "text": [
      "[[ 0.7071+0.j  0.7071-0.j  0.    +0.j  0.    +0.j]\n",
      " [ 0.    +0.j  0.    +0.j  0.7071+0.j -0.7071+0.j]\n",
      " [ 0.    +0.j  0.    +0.j  0.7071+0.j  0.7071-0.j]\n",
      " [ 0.7071+0.j -0.7071+0.j  0.    +0.j  0.    +0.j]]\n"
     ]
    }
   ],
   "source": [
    "from qiskit import QuantumCircuit, transpile\n",
    "from qiskit_aer import AerSimulator\n",
    "import numpy as np\n",
    "\n",
    "# シンプルな2量子ビットの回路\n",
    "qc = QuantumCircuit(2)\n",
    "qc.h(0)  # Hadamardゲートを量子ビット0に適用\n",
    "qc.cx(0, 1)  # CNOTゲートを適用\n",
    "\n",
    "# ユニタリ行列と状態ベクトルの保存命令を追加（どちらか一方でもOK）\n",
    "qc.save_unitary()\n",
    "# qc.save_statevector()  # 状態ベクトルも必要ならこちらも追加\n",
    "\n",
    "# ユニタリ行列シミュレーション用シミュレータ\n",
    "simulator = AerSimulator(method='unitary')\n",
    "\n",
    "# 回路をコンパイルしてシミュレーションを実行\n",
    "compiled_circuit = transpile(qc, simulator)\n",
    "results = simulator.run(compiled_circuit).result()\n",
    "\n",
    "# 状態ベクトルを取得して表示\n",
    "unitary_mat = results.get_unitary(0)\n",
    "print(np.round(unitary_mat,4))"
   ]
  },
  {
   "cell_type": "code",
   "execution_count": null,
   "id": "cb86e23e",
   "metadata": {},
   "outputs": [],
   "source": []
  }
 ],
 "metadata": {
  "kernelspec": {
   "display_name": "Python 3",
   "language": "python",
   "name": "python3"
  },
  "language_info": {
   "codemirror_mode": {
    "name": "ipython",
    "version": 3
   },
   "file_extension": ".py",
   "mimetype": "text/x-python",
   "name": "python",
   "nbconvert_exporter": "python",
   "pygments_lexer": "ipython3",
   "version": "3.12.10"
  }
 },
 "nbformat": 4,
 "nbformat_minor": 5
}
