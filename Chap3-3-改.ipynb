{
 "cells": [
  {
   "cell_type": "code",
   "execution_count": 15,
   "id": "2fc7a3e5-645e-48f5-a5f5-27142e191392",
   "metadata": {
    "scrolled": true
   },
   "outputs": [
    {
     "ename": "QiskitError",
     "evalue": "'No statevector for experiment \"<qiskit.circuit.quantumcircuit.QuantumCircuit object at 0x7fe975441730>\"'",
     "output_type": "error",
     "traceback": [
      "\u001b[0;31m---------------------------------------------------------------------------\u001b[0m",
      "\u001b[0;31mKeyError\u001b[0m                                  Traceback (most recent call last)",
      "File \u001b[0;32m/usr/local/lib/python3.9/site-packages/qiskit/result/result.py:309\u001b[0m, in \u001b[0;36mResult.get_statevector\u001b[0;34m(self, experiment, decimals)\u001b[0m\n\u001b[1;32m    307\u001b[0m \u001b[38;5;28;01mtry\u001b[39;00m:\n\u001b[1;32m    308\u001b[0m     \u001b[38;5;28;01mreturn\u001b[39;00m postprocess\u001b[38;5;241m.\u001b[39mformat_statevector(\n\u001b[0;32m--> 309\u001b[0m         \u001b[38;5;28;43mself\u001b[39;49m\u001b[38;5;241;43m.\u001b[39;49m\u001b[43mdata\u001b[49m\u001b[43m(\u001b[49m\u001b[43mexperiment\u001b[49m\u001b[43m)\u001b[49m\u001b[43m[\u001b[49m\u001b[38;5;124;43m\"\u001b[39;49m\u001b[38;5;124;43mstatevector\u001b[39;49m\u001b[38;5;124;43m\"\u001b[39;49m\u001b[43m]\u001b[49m, decimals\u001b[38;5;241m=\u001b[39mdecimals\n\u001b[1;32m    310\u001b[0m     )\n\u001b[1;32m    311\u001b[0m \u001b[38;5;28;01mexcept\u001b[39;00m \u001b[38;5;167;01mKeyError\u001b[39;00m \u001b[38;5;28;01mas\u001b[39;00m ex:\n",
      "\u001b[0;31mKeyError\u001b[0m: 'statevector'",
      "\nThe above exception was the direct cause of the following exception:\n",
      "\u001b[0;31mQiskitError\u001b[0m                               Traceback (most recent call last)",
      "Cell \u001b[0;32mIn[15], line 18\u001b[0m\n\u001b[1;32m     16\u001b[0m \u001b[38;5;66;03m# 状態ベクトルを取得して表示\u001b[39;00m\n\u001b[1;32m     17\u001b[0m \u001b[38;5;28;01mtry\u001b[39;00m:\n\u001b[0;32m---> 18\u001b[0m     statevector \u001b[38;5;241m=\u001b[39m \u001b[43mresult\u001b[49m\u001b[38;5;241;43m.\u001b[39;49m\u001b[43mget_statevector\u001b[49m\u001b[43m(\u001b[49m\u001b[43mqc\u001b[49m\u001b[43m)\u001b[49m  \u001b[38;5;66;03m# qcを渡す\u001b[39;00m\n\u001b[1;32m     19\u001b[0m     \u001b[38;5;28mprint\u001b[39m(\u001b[38;5;124m\"\u001b[39m\u001b[38;5;124mStatevector:\u001b[39m\u001b[38;5;124m\"\u001b[39m, statevector)\n\u001b[1;32m     20\u001b[0m \u001b[38;5;28;01mexcept\u001b[39;00m \u001b[38;5;167;01mKeyError\u001b[39;00m \u001b[38;5;28;01mas\u001b[39;00m e:\n",
      "File \u001b[0;32m/usr/local/lib/python3.9/site-packages/qiskit/result/result.py:312\u001b[0m, in \u001b[0;36mResult.get_statevector\u001b[0;34m(self, experiment, decimals)\u001b[0m\n\u001b[1;32m    308\u001b[0m     \u001b[38;5;28;01mreturn\u001b[39;00m postprocess\u001b[38;5;241m.\u001b[39mformat_statevector(\n\u001b[1;32m    309\u001b[0m         \u001b[38;5;28mself\u001b[39m\u001b[38;5;241m.\u001b[39mdata(experiment)[\u001b[38;5;124m\"\u001b[39m\u001b[38;5;124mstatevector\u001b[39m\u001b[38;5;124m\"\u001b[39m], decimals\u001b[38;5;241m=\u001b[39mdecimals\n\u001b[1;32m    310\u001b[0m     )\n\u001b[1;32m    311\u001b[0m \u001b[38;5;28;01mexcept\u001b[39;00m \u001b[38;5;167;01mKeyError\u001b[39;00m \u001b[38;5;28;01mas\u001b[39;00m ex:\n\u001b[0;32m--> 312\u001b[0m     \u001b[38;5;28;01mraise\u001b[39;00m QiskitError(\u001b[38;5;124mf\u001b[39m\u001b[38;5;124m'\u001b[39m\u001b[38;5;124mNo statevector for experiment \u001b[39m\u001b[38;5;124m\"\u001b[39m\u001b[38;5;132;01m{\u001b[39;00m\u001b[38;5;28mrepr\u001b[39m(experiment)\u001b[38;5;132;01m}\u001b[39;00m\u001b[38;5;124m\"\u001b[39m\u001b[38;5;124m'\u001b[39m) \u001b[38;5;28;01mfrom\u001b[39;00m \u001b[38;5;21;01mex\u001b[39;00m\n",
      "\u001b[0;31mQiskitError\u001b[0m: 'No statevector for experiment \"<qiskit.circuit.quantumcircuit.QuantumCircuit object at 0x7fe975441730>\"'"
     ]
    }
   ],
   "source": [
    "from qiskit import QuantumCircuit, transpile\n",
    "from qiskit_aer import AerSimulator\n",
    "\n",
    "# シンプルな2量子ビットの回路\n",
    "qc = QuantumCircuit(2)\n",
    "qc.h(0)  # Hadamardゲートを量子ビット0に適用\n",
    "qc.cx(0, 1)  # CNOTゲートを適用\n",
    "\n",
    "# 状態ベクトルシミュレーション用シミュレーター\n",
    "simulator = AerSimulator(method='statevector')\n",
    "\n",
    "# 回路をコンパイルしてシミュレーションを実行\n",
    "compiled_circuit = transpile(qc, simulator)\n",
    "result = simulator.run(compiled_circuit).result()\n",
    "\n",
    "# 状態ベクトルを取得して表示\n",
    "try:\n",
    "    statevector = result.get_statevector(qc)  # qcを渡す\n",
    "    print(\"Statevector:\", statevector)\n",
    "except KeyError as e:\n",
    "    print(f\"Statevector not found. Error: {e}\")\n"
   ]
  },
  {
   "cell_type": "code",
   "execution_count": null,
   "id": "7d2203b8-70c6-47ae-b10c-b5522a098daf",
   "metadata": {},
   "outputs": [],
   "source": []
  }
 ],
 "metadata": {
  "kernelspec": {
   "display_name": "Python 3 (ipykernel)",
   "language": "python",
   "name": "python3"
  },
  "language_info": {
   "codemirror_mode": {
    "name": "ipython",
    "version": 3
   },
   "file_extension": ".py",
   "mimetype": "text/x-python",
   "name": "python",
   "nbconvert_exporter": "python",
   "pygments_lexer": "ipython3",
   "version": "3.9.19"
  }
 },
 "nbformat": 4,
 "nbformat_minor": 5
}
