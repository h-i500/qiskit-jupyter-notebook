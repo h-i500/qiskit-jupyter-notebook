{
 "cells": [
  {
   "cell_type": "code",
   "execution_count": 3,
   "metadata": {},
   "outputs": [
    {
     "name": "stdout",
     "output_type": "stream",
     "text": [
      "minimize 4*q0*q1 + 4*q0*q2 + 8*q1*q2 + 2*q1*q3 + 2*q2*q3 + 4*q0 + 4*q1 + 4*q2 + 4*q3 (4 variables, 0 constraints, '')\n"
     ]
    }
   ],
   "source": [
    "from qiskit_optimization import QuadraticProgram\n",
    "\n",
    "qubo = QuadraticProgram()\n",
    "# 変数を作ります\n",
    "qubo.binary_var('q0')\n",
    "qubo.binary_var('q1')\n",
    "qubo.binary_var('q2')\n",
    "qubo.binary_var('q3')\n",
    "# \n",
    "linear={'q0': 4, 'q1': 4, 'q2': 4, 'q3': 4}\n",
    "quadratic={('q0', 'q1'): 4, ('q0', 'q2'): 4, ('q1', 'q2'): 8, ('q1', 'q3'): 2, ('q2', 'q3'): 2}\n",
    "qubo.minimize(linear=linear,quadratic=quadratic)\n",
    "print(qubo)"
   ]
  },
  {
   "cell_type": "code",
   "execution_count": null,
   "metadata": {},
   "outputs": [],
   "source": [
    "from qiskit import QuantumCircuit, transpile\n",
    "from qiskit.quantum_info import Statevector, SparsePauliOp\n",
    "from qiskit_aer import AerSimulator\n",
    "\n",
    "# ミキサー（Pauli演算子で定義）\n",
    "mixer = SparsePauliOp.from_list([\n",
    "    (\"XXII\", 0.5),\n",
    "    (\"YYII\", 0.5),\n",
    "    (\"IIXX\", 0.5),\n",
    "    (\"IIYY\", 0.5)\n",
    "])\n",
    "\n",
    "# 初期状態回路\n",
    "initial_state_circuit = QuantumCircuit(4)\n",
    "initial_state_circuit.h(0)\n",
    "initial_state_circuit.cx(0, 1)\n",
    "initial_state_circuit.x(0)\n",
    "initial_state_circuit.h(2)\n",
    "initial_state_circuit.cx(2, 3)\n",
    "initial_state_circuit.x(2)\n",
    "\n",
    "# ✅ 状態ベクトルを保存するように指示\n",
    "initial_state_circuit.save_statevector()\n",
    "\n",
    "# シミュレータ実行\n",
    "simulator = AerSimulator(method='statevector')\n",
    "compiled_circuit = transpile(initial_state_circuit, simulator)\n",
    "result = simulator.run(compiled_circuit).result()\n",
    "\n",
    "initial_state_vec = result.get_statevector()\n",
    "\n",
    "# 初期状態オブジェクト化\n",
    "initial_state = Statevector(initial_state_vec)\n"
   ]
  },
  {
   "cell_type": "code",
   "execution_count": null,
   "metadata": {},
   "outputs": [
    {
     "name": "stderr",
     "output_type": "stream",
     "text": [
      "/tmp/ipykernel_21994/1154555368.py:41: DeprecationWarning: The class ``qiskit.primitives.sampler.Sampler`` is deprecated as of qiskit 1.2. It will be removed no earlier than 3 months after the release date. All implementations of the `BaseSamplerV1` interface have been deprecated in favor of their V2 counterparts. The V2 alternative for the `Sampler` class is `StatevectorSampler`.\n",
      "  sampler = Sampler()\n"
     ]
    },
    {
     "name": "stdout",
     "output_type": "stream",
     "text": [
      "fval=0.0, q0=0.0, q1=0.0, q2=0.0, q3=0.0, status=SUCCESS\n"
     ]
    }
   ],
   "source": [
    "from qiskit import QuantumCircuit, transpile\n",
    "from qiskit.quantum_info import Statevector, SparsePauliOp\n",
    "from qiskit_aer import AerSimulator\n",
    "from qiskit_optimization.algorithms import MinimumEigenOptimizer\n",
    "from qiskit_algorithms.minimum_eigensolvers import QAOA\n",
    "from qiskit_algorithms.optimizers import COBYLA\n",
    "from qiskit.primitives import Sampler\n",
    "\n",
    "# ミキサー演算子\n",
    "mixer = SparsePauliOp.from_list([\n",
    "    (\"XXII\", 0.5),\n",
    "    (\"YYII\", 0.5),\n",
    "    (\"IIXX\", 0.5),\n",
    "    (\"IIYY\", 0.5)\n",
    "])\n",
    "\n",
    "# 初期状態回路\n",
    "initial_state_circuit = QuantumCircuit(4)\n",
    "initial_state_circuit.h(0)\n",
    "initial_state_circuit.cx(0, 1)\n",
    "initial_state_circuit.x(0)\n",
    "initial_state_circuit.h(2)\n",
    "initial_state_circuit.cx(2, 3)\n",
    "initial_state_circuit.x(2)\n",
    "\n",
    "# QAOA の設定\n",
    "sampler = Sampler()\n",
    "# sampler = StatevectorSampler() \n",
    "optimizer = COBYLA()\n",
    "qaoa_mes = QAOA(\n",
    "    sampler=sampler,\n",
    "    optimizer=optimizer,\n",
    "    reps=1,\n",
    "    # # ミキサーを使用する場合\n",
    "    # initial_state=initial_state_circuit,\n",
    "    # mixer=mixer\n",
    ")\n",
    "\n",
    "# QUBO を解く\n",
    "qaoa = MinimumEigenOptimizer(qaoa_mes)\n",
    "result = qaoa.solve(qubo)\n",
    "\n",
    "# 結果を表示\n",
    "print(result)\n"
   ]
  }
 ],
 "metadata": {
  "kernelspec": {
   "display_name": "Python 3",
   "language": "python",
   "name": "python3"
  },
  "language_info": {
   "codemirror_mode": {
    "name": "ipython",
    "version": 3
   },
   "file_extension": ".py",
   "mimetype": "text/x-python",
   "name": "python",
   "nbconvert_exporter": "python",
   "pygments_lexer": "ipython3",
   "version": "3.12.10"
  }
 },
 "nbformat": 4,
 "nbformat_minor": 2
}
