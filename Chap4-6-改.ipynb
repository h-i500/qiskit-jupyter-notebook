{
 "cells": [
  {
   "cell_type": "code",
   "execution_count": null,
   "metadata": {},
   "outputs": [],
   "source": [
    "import numpy as np\n",
    "from numpy import pi\n",
    "import math\n",
    "import matplotlib.pyplot as plt\n",
    "# Qiskitから必要なモジュールをインポート\n",
    "from qiskit import QuantumCircuit, transpile\n",
    "from qiskit_aer import AerSimulator  # AerSimulatorを使用\n",
    "from qiskit.visualization import plot_histogram\n",
    "\n",
    "a = '100101'\n",
    "\n",
    "def oracle(qc, a):\n",
    "    for i, s in enumerate(reversed(a)):\n",
    "        if s == '1':\n",
    "            qc.z(i)        \n",
    "\n",
    "n = len(a)\n",
    "qc = QuantumCircuit(n, n)\n",
    "\n",
    "# アダマールゲートをすべての量子ビットに適用\n",
    "for i in range(n):\n",
    "    qc.h(i)\n",
    "    \n",
    "qc.barrier()\n",
    "\n",
    "# オラクルの適用\n",
    "oracle(qc, a)\n",
    "\n",
    "qc.barrier()\n",
    "\n",
    "# 再度アダマールゲートをすべての量子ビットに適用\n",
    "for i in range(n):\n",
    "    qc.h(i)\n",
    "\n",
    "# 各量子ビットを測定\n",
    "for i in range(n):\n",
    "    qc.measure(i, i)\n",
    "    \n",
    "qc.draw(output='mpl')\n",
    "\n"
   ]
  },
  {
   "cell_type": "code",
   "execution_count": null,
   "metadata": {},
   "outputs": [],
   "source": [
    "\n",
    "# AerSimulatorを使用して実行\n",
    "simulator = AerSimulator()\n",
    "compiled_circuit = transpile(qc, simulator)\n",
    "result = simulator.run(compiled_circuit, shots=1042).result()\n",
    "\n",
    "# 結果を取得して表示\n",
    "answer = result.get_counts()\n",
    "plot_histogram(answer)"
   ]
  }
 ],
 "metadata": {
  "language_info": {
   "name": "python"
  }
 },
 "nbformat": 4,
 "nbformat_minor": 2
}
