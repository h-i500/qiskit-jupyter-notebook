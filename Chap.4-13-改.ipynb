{
 "cells": [
  {
   "cell_type": "code",
   "execution_count": null,
   "id": "31fe8782-7453-40e2-99ec-e0fcb0e3e19d",
   "metadata": {},
   "outputs": [],
   "source": [
    "from qiskit import QuantumCircuit, ClassicalRegister, QuantumRegister, transpile\n",
    "from qiskit_aer import AerSimulator  # AerSimulatorを使用\n",
    "from qiskit.visualization import plot_histogram\n",
    "import numpy as np\n",
    "\n",
    "# 量子レジスタの作成\n",
    "qr_amp = QuantumRegister(2, name='amp')\n",
    "circuit = QuantumCircuit(qr_amp)\n",
    "\n",
    "# 初期状態 A\n",
    "circuit.ry(2*np.pi/3, 0)\n",
    "circuit.h(1)\n",
    "circuit.cx(1, 0)\n",
    "\n",
    "# 振幅増幅\n",
    "# UΨ_0\n",
    "circuit.x(0)\n",
    "circuit.z(0)\n",
    "circuit.z(1)\n",
    "circuit.x(0)\n",
    "\n",
    "# UΨ\n",
    "circuit.cx(1, 0)\n",
    "circuit.h(1)\n",
    "circuit.ry(-2*np.pi/3, 0)\n",
    "\n",
    "circuit.x([0, 1])\n",
    "circuit.cz(0, 1)\n",
    "circuit.x([0, 1])\n",
    "\n",
    "circuit.ry(2*np.pi/3, 0)\n",
    "circuit.h(1)\n",
    "circuit.cx(1, 0)\n",
    "\n",
    "# 測定\n",
    "circuit.measure_all()\n",
    "\n",
    "# AerSimulatorを使用したシミュレーション\n",
    "simulator = AerSimulator()\n",
    "compiled_circuit = transpile(circuit, simulator)\n",
    "result = simulator.run(compiled_circuit, shots=1000).result()\n",
    "\n",
    "# 結果の取得と表示\n",
    "answer = result.get_counts(circuit)\n",
    "print(answer)\n",
    "plot_histogram(answer)\n",
    "\n",
    "# 回路図を描画\n",
    "circuit.draw(output='mpl')\n"
   ]
  },
  {
   "cell_type": "code",
   "execution_count": null,
   "id": "e86bd942-22e5-4add-8fc4-d9f9a35e81d3",
   "metadata": {},
   "outputs": [],
   "source": []
  }
 ],
 "metadata": {
  "kernelspec": {
   "display_name": "Python 3 (ipykernel)",
   "language": "python",
   "name": "python3"
  },
  "language_info": {
   "codemirror_mode": {
    "name": "ipython",
    "version": 3
   },
   "file_extension": ".py",
   "mimetype": "text/x-python",
   "name": "python",
   "nbconvert_exporter": "python",
   "pygments_lexer": "ipython3",
   "version": "3.9.19"
  }
 },
 "nbformat": 4,
 "nbformat_minor": 5
}
