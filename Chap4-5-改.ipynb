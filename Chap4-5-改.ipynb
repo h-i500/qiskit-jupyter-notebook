{
 "cells": [
  {
   "cell_type": "code",
   "execution_count": null,
   "metadata": {},
   "outputs": [],
   "source": [
    "import numpy as np\n",
    "import matplotlib.pyplot as plt\n",
    "from qiskit import QuantumCircuit, transpile\n",
    "from qiskit_aer import AerSimulator  # AerSimulatorを使用\n",
    "from qiskit.visualization import plot_histogram\n",
    "\n",
    "# f(x) への入力変数xのbit長\n",
    "n = 3\n",
    "\n",
    "# オラクルの選択\n",
    "oracle_type = \"b\"  # 'b' : バランス関数  'c' : 定数関数\n",
    "\n",
    "def apply_oracle(qc, oracle_type, n):\n",
    "    if oracle_type == \"c\":  # 定数関数\n",
    "        if np.random.randint(2):\n",
    "            qc.x(n)  # 定数関数が1の場合\n",
    "    else:  # バランス関数\n",
    "        for ctr in range(n):\n",
    "            qc.cx(ctr, n)\n",
    "\n",
    "# 量子回路の生成\n",
    "qc = QuantumCircuit(n + 1, n)\n",
    "\n",
    "qc.x(n)  # 最下位量子ビットを反転\n",
    "qc.h(range(n))  # 上位n量子ビットにHゲート\n",
    "qc.h(n)  # 最下位ビットにもHゲート\n",
    "qc.barrier()\n",
    "\n",
    "# オラクルの適用\n",
    "apply_oracle(qc, oracle_type, n)\n",
    "qc.barrier()\n",
    "\n",
    "# 再度アダマールゲートを上位n量子ビットに適用\n",
    "qc.h(range(n))\n",
    "\n",
    "# 測定\n",
    "qc.measure(range(n), range(n))\n",
    "\n",
    "# 回路の描画\n",
    "qc.draw(output='mpl')\n",
    "# plt.show()"
   ]
  },
  {
   "cell_type": "code",
   "execution_count": null,
   "metadata": {},
   "outputs": [],
   "source": [
    "# シミュレーションの実行\n",
    "simulator = AerSimulator()\n",
    "compiled_circuit = transpile(qc, simulator)\n",
    "result = simulator.run(compiled_circuit, shots=1024).result()\n",
    "\n",
    "# 結果の取得と可視化\n",
    "answer = result.get_counts()\n",
    "print(answer)\n",
    "plot_histogram(answer)\n",
    "# plt.show()"
   ]
  }
 ],
 "metadata": {
  "language_info": {
   "name": "python"
  }
 },
 "nbformat": 4,
 "nbformat_minor": 2
}
