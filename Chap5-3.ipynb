{
 "cells": [
  {
   "cell_type": "code",
   "execution_count": 3,
   "metadata": {},
   "outputs": [
    {
     "name": "stdout",
     "output_type": "stream",
     "text": [
      "minimize -4*q0*q1 + 2*q1^2 + 3*q1*q2 - q2^2 (3 variables, 0 constraints, '')\n"
     ]
    }
   ],
   "source": [
    "# import numpy as np\n",
    "# from qiskit.optimization import QuadraticProgram\n",
    "import numpy as np\n",
    "from qiskit_optimization import QuadraticProgram\n",
    "\n",
    "qubo = QuadraticProgram()\n",
    "# 変数を作ります\n",
    "qubo.binary_var('q0')\n",
    "qubo.binary_var('q1')\n",
    "qubo.binary_var('q2')\n",
    "# QUBOの係数を行列の形式で指定し、代入します\n",
    "q = np.zeros((3, 3))\n",
    "q[1, 1] = 2\n",
    "q[2, 2] = -1\n",
    "q[0, 1] = -4\n",
    "q[1, 2] = 3\n",
    "qubo.minimize(quadratic=q)\n",
    "print(qubo)"
   ]
  },
  {
   "cell_type": "code",
   "execution_count": 4,
   "metadata": {},
   "outputs": [
    {
     "name": "stdout",
     "output_type": "stream",
     "text": [
      "minimize -4*q0*q1 + 3*q1*q2 + 2*q1 - q2 (3 variables, 0 constraints, '')\n"
     ]
    }
   ],
   "source": [
    "from qiskit_optimization import QuadraticProgram\n",
    "\n",
    "qubo = QuadraticProgram()\n",
    "# 変数を作ります\n",
    "qubo.binary_var('q0')\n",
    "qubo.binary_var('q1')\n",
    "qubo.binary_var('q2')\n",
    "qubo.minimize(linear={'q1': 2, 'q2': -1}, quadratic={('q0', 'q1'): -4, ('q1', 'q2'): 3})\n",
    "print(qubo)\n"
   ]
  },
  {
   "cell_type": "code",
   "execution_count": 13,
   "metadata": {},
   "outputs": [
    {
     "name": "stdout",
     "output_type": "stream",
     "text": [
      "fval=-2.0, q0=1.0, q1=1.0, q2=0.0, status=SUCCESS\n"
     ]
    }
   ],
   "source": [
    "# from qiskit import Aer\n",
    "# from qiskit_optimization.algorithms import MinimumEigenOptimizer\n",
    "# from qiskit.aqua import QuantumInstance\n",
    "# from qiskit.aqua.algorithms import QAOA\n",
    "\n",
    "# quantum_instance = QuantumInstance(Aer.get_backend('statevector_simulator'))\n",
    "# step = 1\n",
    "# qaoa_mes = QAOA(quantum_instance=quantum_instance, p=step)\n",
    "# qaoa = MinimumEigenOptimizer(qaoa_mes)\n",
    "# qaoa_result = qaoa.solve(qubo)\n",
    "# print(qaoa_result)\n",
    "\n",
    "from qiskit_aer import Aer\n",
    "from qiskit_aer.primitives import Sampler\n",
    "from qiskit_algorithms.optimizers import COBYLA\n",
    "from qiskit_algorithms.minimum_eigensolvers import QAOA\n",
    "from qiskit_optimization.algorithms import MinimumEigenOptimizer\n",
    "\n",
    "# SamplerとOptimizerを準備\n",
    "# sampler = Sampler(backend=Aer.get_backend('aer_simulator_statevector'))\n",
    "sampler = Sampler()\n",
    "optimizer = COBYLA()  # デフォルトの設定でもOK\n",
    "\n",
    "# QAOAの設定\n",
    "qaoa_mes = QAOA(sampler=sampler, optimizer=optimizer, reps=1)\n",
    "\n",
    "# QUBO最適化\n",
    "qaoa = MinimumEigenOptimizer(qaoa_mes)\n",
    "qaoa_result = qaoa.solve(qubo)\n",
    "\n",
    "# 結果表示\n",
    "print(qaoa_result)\n"
   ]
  },
  {
   "cell_type": "code",
   "execution_count": null,
   "metadata": {},
   "outputs": [],
   "source": []
  },
  {
   "cell_type": "code",
   "execution_count": null,
   "metadata": {},
   "outputs": [],
   "source": []
  }
 ],
 "metadata": {
  "kernelspec": {
   "display_name": "Python 3",
   "language": "python",
   "name": "python3"
  },
  "language_info": {
   "codemirror_mode": {
    "name": "ipython",
    "version": 3
   },
   "file_extension": ".py",
   "mimetype": "text/x-python",
   "name": "python",
   "nbconvert_exporter": "python",
   "pygments_lexer": "ipython3",
   "version": "3.12.8"
  }
 },
 "nbformat": 4,
 "nbformat_minor": 2
}
